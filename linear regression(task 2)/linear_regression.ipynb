{
 "cells": [
  {
   "cell_type": "code",
   "execution_count": 1,
   "metadata": {},
   "outputs": [],
   "source": [
    "import pandas as pd\n",
    "import numpy as np\n",
    "from statsmodels.stats.outliers_influence import variance_inflation_factor  \n",
    "from statsmodels.tools.tools import add_constant  "
   ]
  },
  {
   "cell_type": "code",
   "execution_count": 2,
   "metadata": {},
   "outputs": [
    {
     "data": {
      "text/plain": [
       "Ideal        4862\n",
       "Premium      3010\n",
       "Very Good    2671\n",
       "Good         1115\n",
       "Fair          342\n",
       "Name: cut, dtype: int64"
      ]
     },
     "execution_count": 2,
     "metadata": {},
     "output_type": "execute_result"
    }
   ],
   "source": [
    "df=pd.read_csv('rugvedlin.csv')\n",
    "df.cut.value_counts()"
   ]
  },
  {
   "cell_type": "code",
   "execution_count": 3,
   "metadata": {},
   "outputs": [
    {
     "data": {
      "text/plain": [
       "SI1     2960\n",
       "VS2     2712\n",
       "SI2     2001\n",
       "VS1     1793\n",
       "VVS2    1150\n",
       "VVS1     803\n",
       "IF       431\n",
       "I1       150\n",
       "Name: clarity, dtype: int64"
      ]
     },
     "execution_count": 3,
     "metadata": {},
     "output_type": "execute_result"
    }
   ],
   "source": [
    "df.clarity.value_counts()"
   ]
  },
  {
   "cell_type": "code",
   "execution_count": 4,
   "metadata": {},
   "outputs": [],
   "source": [
    "#from research rating according to ranking\n",
    "df.clarity=df[\"clarity\"].replace(\"I1\",.125).replace(\"SI2\",.250).replace(\"SI1\",.375).replace(\"VS2\",.5).replace(\"VS1\",.625).replace(\"VVS2\",.75).replace(\"VVS1\",.875).replace(\"IF\",.875)\n",
    "#df.clarity=df['clarity'].astype('category')\n",
    "#df.clarity=df['clarity'].cat.codes"
   ]
  },
  {
   "cell_type": "code",
   "execution_count": 5,
   "metadata": {},
   "outputs": [
    {
     "data": {
      "text/plain": [
       "0.375    2960\n",
       "0.500    2712\n",
       "0.250    2001\n",
       "0.625    1793\n",
       "0.875    1234\n",
       "0.750    1150\n",
       "0.125     150\n",
       "Name: clarity, dtype: int64"
      ]
     },
     "execution_count": 5,
     "metadata": {},
     "output_type": "execute_result"
    }
   ],
   "source": [
    "df.clarity.value_counts()"
   ]
  },
  {
   "cell_type": "code",
   "execution_count": 6,
   "metadata": {},
   "outputs": [
    {
     "data": {
      "text/plain": [
       "G    2566\n",
       "E    2154\n",
       "F    2098\n",
       "H    1808\n",
       "D    1520\n",
       "I    1198\n",
       "J     656\n",
       "Name: color, dtype: int64"
      ]
     },
     "execution_count": 6,
     "metadata": {},
     "output_type": "execute_result"
    }
   ],
   "source": [
    "df.color.value_counts()"
   ]
  },
  {
   "cell_type": "code",
   "execution_count": 7,
   "metadata": {},
   "outputs": [],
   "source": [
    "#finding the colors avg price\n",
    "x=[]\n",
    "x.append(df.where(df.color=='G').price.mean())\n",
    "x.append(df.where(df.color=='E').price.mean())\n",
    "x.append(df.where(df.color=='F').price.mean())\n",
    "x.append(df.where(df.color=='H').price.mean())\n",
    "x.append(df.where(df.color=='D').price.mean())\n",
    "x.append(df.where(df.color=='I').price.mean())\n",
    "x.append(df.where(df.color=='J').price.mean())"
   ]
  },
  {
   "cell_type": "code",
   "execution_count": 8,
   "metadata": {},
   "outputs": [
    {
     "data": {
      "text/plain": [
       "[8.099594699922056,\n",
       " 6.14430826369545,\n",
       " 7.3010800762631085,\n",
       " 8.778185840707964,\n",
       " 6.63369605263158,\n",
       " 10.046933222036726,\n",
       " 10.419018292682928]"
      ]
     },
     "execution_count": 8,
     "metadata": {},
     "output_type": "execute_result"
    }
   ],
   "source": [
    "x"
   ]
  },
  {
   "cell_type": "code",
   "execution_count": 9,
   "metadata": {},
   "outputs": [],
   "source": [
    "#arranging color based on avg price\n",
    "df.color=df[\"color\"].replace(\"E\",.1428571).replace(\"D\",.2857142429).replace(\"F\",.4284713429).replace(\"G\",.5714284429).replace(\"H\",.7142855429).replace(\"I\",.8571426429).replace(\"J\",.9999997429)\n",
    "#df.color=df['color'].astype('category')\n",
    "#df.color=df['color'].cat.codes"
   ]
  },
  {
   "cell_type": "code",
   "execution_count": 10,
   "metadata": {},
   "outputs": [
    {
     "data": {
      "text/plain": [
       "0.571428    2566\n",
       "0.142857    2154\n",
       "0.428471    2098\n",
       "0.714286    1808\n",
       "0.285714    1520\n",
       "0.857143    1198\n",
       "1.000000     656\n",
       "Name: color, dtype: int64"
      ]
     },
     "execution_count": 10,
     "metadata": {},
     "output_type": "execute_result"
    }
   ],
   "source": [
    "df.color.value_counts()"
   ]
  },
  {
   "cell_type": "code",
   "execution_count": 11,
   "metadata": {},
   "outputs": [
    {
     "data": {
      "text/plain": [
       "carat      0\n",
       "cut        0\n",
       "color      0\n",
       "clarity    0\n",
       "depth      0\n",
       "table      0\n",
       "x          0\n",
       "y          0\n",
       "z          0\n",
       "price      0\n",
       "dtype: int64"
      ]
     },
     "execution_count": 11,
     "metadata": {},
     "output_type": "execute_result"
    }
   ],
   "source": [
    "df.isnull().sum()"
   ]
  },
  {
   "cell_type": "code",
   "execution_count": 12,
   "metadata": {},
   "outputs": [],
   "source": [
    "#df.cut=df['cut'].astype('category')\n",
    "#df.cut=df['cut'].cat.codes\n",
    "df.cut=df['cut'].replace(\"Fair\",0.2).replace(\"Good\",.4).replace(\"Very Good\",.6).replace(\"Premium\",.8).replace(\"Ideal\",1)"
   ]
  },
  {
   "cell_type": "code",
   "execution_count": 13,
   "metadata": {},
   "outputs": [
    {
     "data": {
      "text/plain": [
       "1.0    4862\n",
       "0.8    3010\n",
       "0.6    2671\n",
       "0.4    1115\n",
       "0.2     342\n",
       "Name: cut, dtype: int64"
      ]
     },
     "execution_count": 13,
     "metadata": {},
     "output_type": "execute_result"
    }
   ],
   "source": [
    "df.cut.value_counts()"
   ]
  },
  {
   "cell_type": "code",
   "execution_count": 14,
   "metadata": {},
   "outputs": [],
   "source": [
    "cpp=df.price/df.carat\n",
    "df['cpp']=cpp"
   ]
  },
  {
   "cell_type": "code",
   "execution_count": 111,
   "metadata": {},
   "outputs": [],
   "source": [
    "min=df.cpp.quantile(.015)\n",
    "max=df.cpp.quantile(.985)\n",
    "#max_threshold\n"
   ]
  },
  {
   "cell_type": "code",
   "execution_count": 112,
   "metadata": {
    "scrolled": false
   },
   "outputs": [
    {
     "data": {
      "text/html": [
       "<div>\n",
       "<style scoped>\n",
       "    .dataframe tbody tr th:only-of-type {\n",
       "        vertical-align: middle;\n",
       "    }\n",
       "\n",
       "    .dataframe tbody tr th {\n",
       "        vertical-align: top;\n",
       "    }\n",
       "\n",
       "    .dataframe thead th {\n",
       "        text-align: right;\n",
       "    }\n",
       "</style>\n",
       "<table border=\"1\" class=\"dataframe\">\n",
       "  <thead>\n",
       "    <tr style=\"text-align: right;\">\n",
       "      <th></th>\n",
       "      <th>carat</th>\n",
       "      <th>cut</th>\n",
       "      <th>color</th>\n",
       "      <th>clarity</th>\n",
       "      <th>depth</th>\n",
       "      <th>table</th>\n",
       "      <th>x</th>\n",
       "      <th>y</th>\n",
       "      <th>z</th>\n",
       "      <th>price</th>\n",
       "      <th>cpp</th>\n",
       "    </tr>\n",
       "  </thead>\n",
       "  <tbody>\n",
       "    <tr>\n",
       "      <th>carat</th>\n",
       "      <td>1.000000</td>\n",
       "      <td>-0.144098</td>\n",
       "      <td>0.273893</td>\n",
       "      <td>-0.355433</td>\n",
       "      <td>0.006378</td>\n",
       "      <td>0.063873</td>\n",
       "      <td>0.714913</td>\n",
       "      <td>0.712074</td>\n",
       "      <td>0.542008</td>\n",
       "      <td>0.901114</td>\n",
       "      <td>0.595454</td>\n",
       "    </tr>\n",
       "    <tr>\n",
       "      <th>cut</th>\n",
       "      <td>-0.144098</td>\n",
       "      <td>1.000000</td>\n",
       "      <td>-0.017978</td>\n",
       "      <td>0.185978</td>\n",
       "      <td>-0.075009</td>\n",
       "      <td>-0.173163</td>\n",
       "      <td>-0.103208</td>\n",
       "      <td>-0.097592</td>\n",
       "      <td>-0.103325</td>\n",
       "      <td>-0.065969</td>\n",
       "      <td>0.007173</td>\n",
       "    </tr>\n",
       "    <tr>\n",
       "      <th>color</th>\n",
       "      <td>0.273893</td>\n",
       "      <td>-0.017978</td>\n",
       "      <td>1.000000</td>\n",
       "      <td>0.009771</td>\n",
       "      <td>0.022540</td>\n",
       "      <td>0.018571</td>\n",
       "      <td>0.194265</td>\n",
       "      <td>0.186431</td>\n",
       "      <td>0.150832</td>\n",
       "      <td>0.163866</td>\n",
       "      <td>-0.001652</td>\n",
       "    </tr>\n",
       "    <tr>\n",
       "      <th>clarity</th>\n",
       "      <td>-0.355433</td>\n",
       "      <td>0.185978</td>\n",
       "      <td>0.009771</td>\n",
       "      <td>1.000000</td>\n",
       "      <td>-0.016482</td>\n",
       "      <td>-0.055156</td>\n",
       "      <td>-0.287257</td>\n",
       "      <td>-0.283139</td>\n",
       "      <td>-0.210200</td>\n",
       "      <td>-0.153157</td>\n",
       "      <td>0.070211</td>\n",
       "    </tr>\n",
       "    <tr>\n",
       "      <th>depth</th>\n",
       "      <td>0.006378</td>\n",
       "      <td>-0.075009</td>\n",
       "      <td>0.022540</td>\n",
       "      <td>-0.016482</td>\n",
       "      <td>1.000000</td>\n",
       "      <td>-0.028407</td>\n",
       "      <td>-0.016920</td>\n",
       "      <td>-0.004879</td>\n",
       "      <td>0.013562</td>\n",
       "      <td>-0.001962</td>\n",
       "      <td>-0.004298</td>\n",
       "    </tr>\n",
       "    <tr>\n",
       "      <th>table</th>\n",
       "      <td>0.063873</td>\n",
       "      <td>-0.173163</td>\n",
       "      <td>0.018571</td>\n",
       "      <td>-0.055156</td>\n",
       "      <td>-0.028407</td>\n",
       "      <td>1.000000</td>\n",
       "      <td>0.067479</td>\n",
       "      <td>0.052183</td>\n",
       "      <td>0.039767</td>\n",
       "      <td>0.041725</td>\n",
       "      <td>0.023540</td>\n",
       "    </tr>\n",
       "    <tr>\n",
       "      <th>x</th>\n",
       "      <td>0.714913</td>\n",
       "      <td>-0.103208</td>\n",
       "      <td>0.194265</td>\n",
       "      <td>-0.287257</td>\n",
       "      <td>-0.016920</td>\n",
       "      <td>0.067479</td>\n",
       "      <td>1.000000</td>\n",
       "      <td>0.562207</td>\n",
       "      <td>0.415738</td>\n",
       "      <td>0.664324</td>\n",
       "      <td>0.516486</td>\n",
       "    </tr>\n",
       "    <tr>\n",
       "      <th>y</th>\n",
       "      <td>0.712074</td>\n",
       "      <td>-0.097592</td>\n",
       "      <td>0.186431</td>\n",
       "      <td>-0.283139</td>\n",
       "      <td>-0.004879</td>\n",
       "      <td>0.052183</td>\n",
       "      <td>0.562207</td>\n",
       "      <td>1.000000</td>\n",
       "      <td>0.419319</td>\n",
       "      <td>0.663095</td>\n",
       "      <td>0.519986</td>\n",
       "    </tr>\n",
       "    <tr>\n",
       "      <th>z</th>\n",
       "      <td>0.542008</td>\n",
       "      <td>-0.103325</td>\n",
       "      <td>0.150832</td>\n",
       "      <td>-0.210200</td>\n",
       "      <td>0.013562</td>\n",
       "      <td>0.039767</td>\n",
       "      <td>0.415738</td>\n",
       "      <td>0.419319</td>\n",
       "      <td>1.000000</td>\n",
       "      <td>0.499839</td>\n",
       "      <td>0.387995</td>\n",
       "    </tr>\n",
       "    <tr>\n",
       "      <th>price</th>\n",
       "      <td>0.901114</td>\n",
       "      <td>-0.065969</td>\n",
       "      <td>0.163866</td>\n",
       "      <td>-0.153157</td>\n",
       "      <td>-0.001962</td>\n",
       "      <td>0.041725</td>\n",
       "      <td>0.664324</td>\n",
       "      <td>0.663095</td>\n",
       "      <td>0.499839</td>\n",
       "      <td>1.000000</td>\n",
       "      <td>0.816168</td>\n",
       "    </tr>\n",
       "    <tr>\n",
       "      <th>cpp</th>\n",
       "      <td>0.595454</td>\n",
       "      <td>0.007173</td>\n",
       "      <td>-0.001652</td>\n",
       "      <td>0.070211</td>\n",
       "      <td>-0.004298</td>\n",
       "      <td>0.023540</td>\n",
       "      <td>0.516486</td>\n",
       "      <td>0.519986</td>\n",
       "      <td>0.387995</td>\n",
       "      <td>0.816168</td>\n",
       "      <td>1.000000</td>\n",
       "    </tr>\n",
       "  </tbody>\n",
       "</table>\n",
       "</div>"
      ],
      "text/plain": [
       "            carat       cut     color   clarity     depth     table         x  \\\n",
       "carat    1.000000 -0.144098  0.273893 -0.355433  0.006378  0.063873  0.714913   \n",
       "cut     -0.144098  1.000000 -0.017978  0.185978 -0.075009 -0.173163 -0.103208   \n",
       "color    0.273893 -0.017978  1.000000  0.009771  0.022540  0.018571  0.194265   \n",
       "clarity -0.355433  0.185978  0.009771  1.000000 -0.016482 -0.055156 -0.287257   \n",
       "depth    0.006378 -0.075009  0.022540 -0.016482  1.000000 -0.028407 -0.016920   \n",
       "table    0.063873 -0.173163  0.018571 -0.055156 -0.028407  1.000000  0.067479   \n",
       "x        0.714913 -0.103208  0.194265 -0.287257 -0.016920  0.067479  1.000000   \n",
       "y        0.712074 -0.097592  0.186431 -0.283139 -0.004879  0.052183  0.562207   \n",
       "z        0.542008 -0.103325  0.150832 -0.210200  0.013562  0.039767  0.415738   \n",
       "price    0.901114 -0.065969  0.163866 -0.153157 -0.001962  0.041725  0.664324   \n",
       "cpp      0.595454  0.007173 -0.001652  0.070211 -0.004298  0.023540  0.516486   \n",
       "\n",
       "                y         z     price       cpp  \n",
       "carat    0.712074  0.542008  0.901114  0.595454  \n",
       "cut     -0.097592 -0.103325 -0.065969  0.007173  \n",
       "color    0.186431  0.150832  0.163866 -0.001652  \n",
       "clarity -0.283139 -0.210200 -0.153157  0.070211  \n",
       "depth   -0.004879  0.013562 -0.001962 -0.004298  \n",
       "table    0.052183  0.039767  0.041725  0.023540  \n",
       "x        0.562207  0.415738  0.664324  0.516486  \n",
       "y        1.000000  0.419319  0.663095  0.519986  \n",
       "z        0.419319  1.000000  0.499839  0.387995  \n",
       "price    0.663095  0.499839  1.000000  0.816168  \n",
       "cpp      0.519986  0.387995  0.816168  1.000000  "
      ]
     },
     "execution_count": 112,
     "metadata": {},
     "output_type": "execute_result"
    }
   ],
   "source": [
    "df.corr()"
   ]
  },
  {
   "cell_type": "code",
   "execution_count": 113,
   "metadata": {},
   "outputs": [
    {
     "data": {
      "text/plain": [
       "const      363.187002\n",
       "carat       12.585021\n",
       "cut          1.090880\n",
       "color        1.210244\n",
       "clarity      1.517585\n",
       "depth        1.009539\n",
       "table        1.035837\n",
       "x            2.166319\n",
       "y            2.151103\n",
       "z            1.446090\n",
       "price       16.084369\n",
       "cpp          4.852861\n",
       "dtype: float64"
      ]
     },
     "execution_count": 113,
     "metadata": {},
     "output_type": "execute_result"
    }
   ],
   "source": [
    "X = add_constant(df)  \n",
    "ds=pd.Series([variance_inflation_factor(X.values, i)   \n",
    "               for i in range(X.shape[1])],   \n",
    "              index=X.columns)  \n",
    "ds"
   ]
  },
  {
   "cell_type": "code",
   "execution_count": 210,
   "metadata": {},
   "outputs": [],
   "source": [
    "x=df[(df.cpp>min) & (max<df.cpp)].drop(columns='price').drop(columns='cpp').drop(columns='depth')\n",
    "y=df[(df.cpp>min) & (max<df.cpp)].price\n",
    "std=df.cpp.std()\n",
    "mean=df.cpp.mean()\n",
    "#x=df[(df.cpp<2.175*std+mean) & (df.cpp>mean- 1.8*std)].drop(columns='price').drop(columns='cpp')\n",
    "#y=df[(df.cpp<2.175*std+mean) & (df.cpp>mean- 1.8*std)].price"
   ]
  },
  {
   "cell_type": "code",
   "execution_count": 211,
   "metadata": {},
   "outputs": [],
   "source": [
    "import sklearn \n",
    "from sklearn.model_selection import train_test_split\n",
    "x_train,x_test,y_train,y_test=train_test_split(x,y, test_size=.3, random_state=0)"
   ]
  },
  {
   "cell_type": "code",
   "execution_count": 212,
   "metadata": {},
   "outputs": [],
   "source": [
    "from sklearn.linear_model import LinearRegression\n",
    "lr=LinearRegression()"
   ]
  },
  {
   "cell_type": "code",
   "execution_count": 213,
   "metadata": {},
   "outputs": [
    {
     "data": {
      "text/html": [
       "<style>#sk-container-id-28 {color: black;background-color: white;}#sk-container-id-28 pre{padding: 0;}#sk-container-id-28 div.sk-toggleable {background-color: white;}#sk-container-id-28 label.sk-toggleable__label {cursor: pointer;display: block;width: 100%;margin-bottom: 0;padding: 0.3em;box-sizing: border-box;text-align: center;}#sk-container-id-28 label.sk-toggleable__label-arrow:before {content: \"▸\";float: left;margin-right: 0.25em;color: #696969;}#sk-container-id-28 label.sk-toggleable__label-arrow:hover:before {color: black;}#sk-container-id-28 div.sk-estimator:hover label.sk-toggleable__label-arrow:before {color: black;}#sk-container-id-28 div.sk-toggleable__content {max-height: 0;max-width: 0;overflow: hidden;text-align: left;background-color: #f0f8ff;}#sk-container-id-28 div.sk-toggleable__content pre {margin: 0.2em;color: black;border-radius: 0.25em;background-color: #f0f8ff;}#sk-container-id-28 input.sk-toggleable__control:checked~div.sk-toggleable__content {max-height: 200px;max-width: 100%;overflow: auto;}#sk-container-id-28 input.sk-toggleable__control:checked~label.sk-toggleable__label-arrow:before {content: \"▾\";}#sk-container-id-28 div.sk-estimator input.sk-toggleable__control:checked~label.sk-toggleable__label {background-color: #d4ebff;}#sk-container-id-28 div.sk-label input.sk-toggleable__control:checked~label.sk-toggleable__label {background-color: #d4ebff;}#sk-container-id-28 input.sk-hidden--visually {border: 0;clip: rect(1px 1px 1px 1px);clip: rect(1px, 1px, 1px, 1px);height: 1px;margin: -1px;overflow: hidden;padding: 0;position: absolute;width: 1px;}#sk-container-id-28 div.sk-estimator {font-family: monospace;background-color: #f0f8ff;border: 1px dotted black;border-radius: 0.25em;box-sizing: border-box;margin-bottom: 0.5em;}#sk-container-id-28 div.sk-estimator:hover {background-color: #d4ebff;}#sk-container-id-28 div.sk-parallel-item::after {content: \"\";width: 100%;border-bottom: 1px solid gray;flex-grow: 1;}#sk-container-id-28 div.sk-label:hover label.sk-toggleable__label {background-color: #d4ebff;}#sk-container-id-28 div.sk-serial::before {content: \"\";position: absolute;border-left: 1px solid gray;box-sizing: border-box;top: 0;bottom: 0;left: 50%;z-index: 0;}#sk-container-id-28 div.sk-serial {display: flex;flex-direction: column;align-items: center;background-color: white;padding-right: 0.2em;padding-left: 0.2em;position: relative;}#sk-container-id-28 div.sk-item {position: relative;z-index: 1;}#sk-container-id-28 div.sk-parallel {display: flex;align-items: stretch;justify-content: center;background-color: white;position: relative;}#sk-container-id-28 div.sk-item::before, #sk-container-id-28 div.sk-parallel-item::before {content: \"\";position: absolute;border-left: 1px solid gray;box-sizing: border-box;top: 0;bottom: 0;left: 50%;z-index: -1;}#sk-container-id-28 div.sk-parallel-item {display: flex;flex-direction: column;z-index: 1;position: relative;background-color: white;}#sk-container-id-28 div.sk-parallel-item:first-child::after {align-self: flex-end;width: 50%;}#sk-container-id-28 div.sk-parallel-item:last-child::after {align-self: flex-start;width: 50%;}#sk-container-id-28 div.sk-parallel-item:only-child::after {width: 0;}#sk-container-id-28 div.sk-dashed-wrapped {border: 1px dashed gray;margin: 0 0.4em 0.5em 0.4em;box-sizing: border-box;padding-bottom: 0.4em;background-color: white;}#sk-container-id-28 div.sk-label label {font-family: monospace;font-weight: bold;display: inline-block;line-height: 1.2em;}#sk-container-id-28 div.sk-label-container {text-align: center;}#sk-container-id-28 div.sk-container {/* jupyter's `normalize.less` sets `[hidden] { display: none; }` but bootstrap.min.css set `[hidden] { display: none !important; }` so we also need the `!important` here to be able to override the default hidden behavior on the sphinx rendered scikit-learn.org. See: https://github.com/scikit-learn/scikit-learn/issues/21755 */display: inline-block !important;position: relative;}#sk-container-id-28 div.sk-text-repr-fallback {display: none;}</style><div id=\"sk-container-id-28\" class=\"sk-top-container\"><div class=\"sk-text-repr-fallback\"><pre>LinearRegression()</pre><b>In a Jupyter environment, please rerun this cell to show the HTML representation or trust the notebook. <br />On GitHub, the HTML representation is unable to render, please try loading this page with nbviewer.org.</b></div><div class=\"sk-container\" hidden><div class=\"sk-item\"><div class=\"sk-estimator sk-toggleable\"><input class=\"sk-toggleable__control sk-hidden--visually\" id=\"sk-estimator-id-28\" type=\"checkbox\" checked><label for=\"sk-estimator-id-28\" class=\"sk-toggleable__label sk-toggleable__label-arrow\">LinearRegression</label><div class=\"sk-toggleable__content\"><pre>LinearRegression()</pre></div></div></div></div></div>"
      ],
      "text/plain": [
       "LinearRegression()"
      ]
     },
     "execution_count": 213,
     "metadata": {},
     "output_type": "execute_result"
    }
   ],
   "source": [
    "lr.fit(x_train, y_train)"
   ]
  },
  {
   "cell_type": "code",
   "execution_count": 214,
   "metadata": {},
   "outputs": [
    {
     "name": "stdout",
     "output_type": "stream",
     "text": [
      "0.9476542094423026\n"
     ]
    }
   ],
   "source": [
    "print(lr.score(x_test, y_test))"
   ]
  },
  {
   "cell_type": "code",
   "execution_count": 209,
   "metadata": {},
   "outputs": [
    {
     "data": {
      "text/plain": [
       "array([ 2.24863009e+01, -4.05237764e-01, -4.40881554e+00,  8.58422492e+00,\n",
       "       -2.07521252e-02,  5.84507944e-02, -5.26519990e-02, -9.01685701e-02,\n",
       "       -2.49045935e-01])"
      ]
     },
     "execution_count": 209,
     "metadata": {},
     "output_type": "execute_result"
    }
   ],
   "source": [
    "lr.coef_"
   ]
  },
  {
   "cell_type": "code",
   "execution_count": 168,
   "metadata": {},
   "outputs": [
    {
     "data": {
      "text/plain": [
       "-4.264554634641225"
      ]
     },
     "execution_count": 168,
     "metadata": {},
     "output_type": "execute_result"
    }
   ],
   "source": [
    "lr.intercept_"
   ]
  },
  {
   "cell_type": "code",
   "execution_count": null,
   "metadata": {},
   "outputs": [],
   "source": []
  }
 ],
 "metadata": {
  "kernelspec": {
   "display_name": "Python 3",
   "language": "python",
   "name": "python3"
  },
  "language_info": {
   "codemirror_mode": {
    "name": "ipython",
    "version": 3
   },
   "file_extension": ".py",
   "mimetype": "text/x-python",
   "name": "python",
   "nbconvert_exporter": "python",
   "pygments_lexer": "ipython3",
   "version": "3.8.10"
  }
 },
 "nbformat": 4,
 "nbformat_minor": 4
}
